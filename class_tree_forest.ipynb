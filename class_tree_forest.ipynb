{
 "cells": [
  {
   "cell_type": "markdown",
   "metadata": {},
   "source": [
    "# Decision Tree & Random Forest"
   ]
  },
  {
   "cell_type": "code",
   "execution_count": null,
   "metadata": {},
   "outputs": [],
   "source": [
    "import numpy as np\n",
    "import pandas as pd\n",
    "from sklearn.model_selection import train_test_split\n",
    "from sklearn import tree\n",
    "from sklearn.ensemble import RandomForestClassifier\n",
    "from sklearn.metrics import confusion_matrix, precision_score, recall_score, f1_score, accuracy_score, ConfusionMatrixDisplay\n",
    "import matplotlib.pyplot as plt\n",
    "\n",
    "import warnings\n",
    "warnings.filterwarnings('ignore')\n",
    "\n",
    "train = pd.read_csv('Dataset/train_preprocessing.csv')\n",
    "test = pd.read_csv('Dataset/test_preprocessing.csv')\n",
    "gender_submission = pd.read_csv('Dataset/gender_submission.csv')\n",
    "# Merge the test dataframe with the gender_submission dataframe on 'PassengerId'\n",
    "test = pd.merge(test, gender_submission[['PassengerId', 'Survived']], on='PassengerId', how='left')\n",
    "test = test.drop(['Survived_x'], axis = 1)\n",
    "test.rename(columns={'Survived_y': 'Survived'}, inplace=True)\n",
    "print(test.head())\n",
    "train = train[train['Survived'] != 'U']\n",
    "test = test[test['Survived'] != 'U']\n",
    "validation, test = train_test_split(test, test_size=2/3, random_state=42)"
   ]
  },
  {
   "cell_type": "code",
   "execution_count": 4,
   "metadata": {},
   "outputs": [],
   "source": [
    "X_train = train[['Pclass', 'Sex', 'Age', 'SibSp', 'Parch', 'Fare', 'Cabin', 'Embarked', 'Title']].values\n",
    "Y_train = train[['Survived']].values\n",
    "X_test = test[['Pclass', 'Sex', 'Age', 'SibSp', 'Parch', 'Fare', 'Cabin', 'Embarked', 'Title']].values\n",
    "Y_test = test[['Survived']].values\n",
    "X_valid = validation[['Pclass', 'Sex', 'Age', 'SibSp', 'Parch', 'Fare', 'Cabin', 'Embarked', 'Title']].values\n",
    "Y_valid = validation[['Survived']].values"
   ]
  },
  {
   "cell_type": "code",
   "execution_count": 2,
   "metadata": {},
   "outputs": [],
   "source": [
    "def evaluate(Y_test, Y_pred_float, flag=0):\n",
    "    precision = precision_score(Y_test, Y_pred_float, average='weighted')\n",
    "    recall = recall_score(Y_test, Y_pred_float, average='weighted')\n",
    "    f1 = f1_score(Y_test, Y_pred_float, average='weighted')\n",
    "    # Confusion Matrix\n",
    "    if flag:\n",
    "        conf_matrix = confusion_matrix(Y_test, Y_pred_float)\n",
    "        disp = ConfusionMatrixDisplay(confusion_matrix=conf_matrix)\n",
    "        disp.plot(cmap=plt.cm.Blues)\n",
    "        plt.show()\n",
    "\n",
    "        # Precision\n",
    "        print(\"Precision:\", precision)\n",
    "\n",
    "        # Recall\n",
    "        print(\"Recall:\", recall)\n",
    "\n",
    "        # F1 Score\n",
    "        print(\"F1 Score:\", f1)"
   ]
  },
  {
   "cell_type": "markdown",
   "metadata": {},
   "source": [
    "### Decision Tree and Random Forest "
   ]
  },
  {
   "cell_type": "code",
   "execution_count": null,
   "metadata": {},
   "outputs": [],
   "source": [
    "# Decision Tree\n",
    "Tree = tree.DecisionTreeClassifier()\n",
    "Tree.fit(X_train, Y_train)\n",
    "Y_pred = Tree.predict(X_test)\n",
    "evaluate(Y_test, Y_pred.astype(float),1)"
   ]
  },
  {
   "cell_type": "code",
   "execution_count": null,
   "metadata": {},
   "outputs": [],
   "source": [
    "# Random Forest\n",
    "best_model = None\n",
    "f1 = []\n",
    "max_f1 = -1e9\n",
    "for i in range(1,51):\n",
    "    model = RandomForestClassifier(n_estimators=i)\n",
    "    model.fit(X_train, Y_train)\n",
    "    Y_pred = model.predict(X_valid)\n",
    "    Y_pred_float = Y_pred.astype(float)\n",
    "    f1_tmp = f1_score(Y_valid, Y_pred_float, average='weighted')\n",
    "    f1.append(f1_tmp)\n",
    "    if (f1_tmp > max_f1):\n",
    "        max_f1 = f1_tmp\n",
    "        best_model = model\n",
    "\n",
    "plt.figure(figsize=(12, 6))\n",
    "plt.plot(range(1, 51), f1, label='F1')\n",
    "plt.title('Tuning Result')\n",
    "plt.xlabel('Number of Estimators')\n",
    "plt.ylabel('Score')\n",
    "plt.legend()\n",
    "plt.grid(True)\n",
    "plt.show()\n",
    "\n",
    "Y_pred = best_model.predict(X_test)\n",
    "evaluate(Y_test, Y_pred.astype(float), 1)\n",
    "    "
   ]
  },
  {
   "cell_type": "markdown",
   "metadata": {},
   "source": [
    "### Scratch"
   ]
  },
  {
   "cell_type": "markdown",
   "metadata": {},
   "source": [
    "Build the model"
   ]
  },
  {
   "cell_type": "code",
   "execution_count": 36,
   "metadata": {},
   "outputs": [],
   "source": [
    "class TreeNode(object):\n",
    "    def __init__(self, ids = None, children = [], entropy = 0, depth = 0):\n",
    "        self.ids = ids           # index of data in this node\n",
    "        self.entropy = entropy   # entropy, will fill later\n",
    "        self.depth = depth       # distance to root node\n",
    "        self.split_attribute = None # which attribute is chosen, it non-leaf\n",
    "        self.children = children # list of its child nodes\n",
    "        self.order = None       # order of values of split_attribute in children\n",
    "        self.label = None       # label of node if it is a leaf\n",
    "\n",
    "    def set_properties(self, split_attribute, order):\n",
    "        self.split_attribute = split_attribute\n",
    "        self.order = order\n",
    "\n",
    "    def set_label(self, label):\n",
    "        self.label = label\n",
    "\n",
    "\n",
    "def entropy(freq):\n",
    "    # remove prob 0 \n",
    "    freq_0 = freq[np.array(freq).nonzero()[0]]\n",
    "    prob_0 = freq_0/float(freq_0.sum())\n",
    "    return -np.sum(prob_0*np.log(prob_0))\n",
    "\n",
    "class DecisionTreeID3(object):\n",
    "    def __init__(self, max_depth= 10, min_samples_split = 2, min_gain = 1e-4):\n",
    "        self.root = None\n",
    "        self.max_depth = max_depth \n",
    "        self.min_samples_split = min_samples_split \n",
    "        self.Ntrain = 0\n",
    "        self.min_gain = min_gain\n",
    "    \n",
    "    def fit(self, data, target):\n",
    "        self.Ntrain = data.count()[0]\n",
    "        self.data = data \n",
    "        self.attributes = list(data)\n",
    "        self.target = target \n",
    "        self.labels = target.unique()\n",
    "        \n",
    "        ids = range(self.Ntrain)\n",
    "        self.root = TreeNode(ids = ids, entropy = self._entropy(ids), depth = 0)\n",
    "        queue = [self.root]\n",
    "        while queue:\n",
    "            node = queue.pop()\n",
    "            if node.depth < self.max_depth or node.entropy < self.min_gain:\n",
    "                node.children = self._split(node)\n",
    "                if not node.children: #leaf node\n",
    "                    self._set_label(node)\n",
    "                queue += node.children\n",
    "            else:\n",
    "                self._set_label(node)\n",
    "                \n",
    "    def _entropy(self, ids):\n",
    "        # Calculate entropy for the node using the provided IDs.\n",
    "        if len(ids) == 0:\n",
    "            return 0\n",
    "        freq = np.array(self.target.iloc[ids].value_counts())\n",
    "        return entropy(freq)\n",
    "\n",
    "    def _set_label(self, node):\n",
    "        # Assign the most frequent label to a node.\n",
    "        target_ids = node.ids\n",
    "        node.set_label(self.target.iloc[target_ids].mode()[0])\n",
    "\n",
    "    \n",
    "    def _split(self, node):\n",
    "        ids = node.ids \n",
    "        best_gain = 0\n",
    "        best_splits = []\n",
    "        best_attribute = None\n",
    "        order = None\n",
    "        sub_data = self.data.iloc[ids, :]\n",
    "        for i, att in enumerate(self.attributes):\n",
    "            values = self.data.iloc[ids, i].unique().tolist()\n",
    "            if len(values) == 1: continue # entropy = 0\n",
    "            splits = []\n",
    "            for val in values: \n",
    "                sub_ids = sub_data.index[sub_data[att] == val].tolist()\n",
    "                splits.append([sub_id-1 for sub_id in sub_ids])\n",
    "            # don't split if a node has too small number of points\n",
    "            if min(map(len, splits)) < self.min_samples_split: continue\n",
    "            # information gain\n",
    "            HxS= 0\n",
    "            for split in splits:\n",
    "                HxS += len(split)*self._entropy(split)/len(ids)\n",
    "            gain = node.entropy - HxS \n",
    "            if gain < self.min_gain: continue # stop if small gain \n",
    "            if gain > best_gain:\n",
    "                best_gain = gain \n",
    "                best_splits = splits\n",
    "                best_attribute = att\n",
    "                order = values\n",
    "        node.set_properties(best_attribute, order)\n",
    "        child_nodes = [TreeNode(ids = split,\n",
    "                     entropy = self._entropy(split), depth = node.depth + 1) for split in best_splits]\n",
    "        return child_nodes\n",
    "\n",
    "    def predict(self, new_data):\n",
    "        npoints = new_data.shape[0]\n",
    "        labels = [None] * npoints\n",
    "\n",
    "        for n in range(npoints):\n",
    "            x = new_data.iloc[n, :]  # one point\n",
    "            node = self.root\n",
    "\n",
    "            while node.children:\n",
    "                #print(f\"Current Node Split Attribute: {node.split_attribute}\")\n",
    "                #print(f\"Node Order: {node.order}\")\n",
    "                #print(f\"Value in Test Data: {x[node.split_attribute]}\")\n",
    "\n",
    "                value = x[node.split_attribute]\n",
    "                if value not in node.order:\n",
    "                    #print(f\"Value '{value}' not found in node order: {node.order}\")\n",
    "                    break\n",
    "                node = node.children[node.order.index(value)]\n",
    "\n",
    "            labels[n] = node.label if node.label is not None else None\n",
    "\n",
    "        return labels\n",
    "\n",
    "class RandomForest:\n",
    "    def __init__(self, n_tree=3, max_depth=10, min_samples_split=2, min_gain=1e-4):\n",
    "        self.n_tree = n_tree\n",
    "        self.max_depth = max_depth\n",
    "        self.min_samples_split = min_samples_split\n",
    "        self.min_gain = min_gain\n",
    "        self.trees = []\n",
    "\n",
    "    def fit(self, X, Y):\n",
    "        trees = []\n",
    "        for i in range(self.n_tree):\n",
    "            # Sample 70% of the data with replacement\n",
    "            X_sub = X.sample(frac=0.7, replace=True, random_state=42 + i)\n",
    "            indices = X_sub.index\n",
    "            Y_sub = Y.loc[indices].reset_index(drop=True)\n",
    "            X_sub = X_sub.reset_index(drop=True)\n",
    "            \n",
    "            # Initialize and fit a decision tree\n",
    "            tree = DecisionTreeID3(max_depth=self.max_depth, min_samples_split=self.min_samples_split, min_gain=self.min_gain)\n",
    "            tree.fit(X_sub, Y_sub)\n",
    "            trees.append(tree)\n",
    "        \n",
    "        self.trees = trees\n",
    "\n",
    "    def predict(self, X):\n",
    "        # Aggregate predictions from all trees\n",
    "        predictions = np.zeros((X.shape[0], self.n_tree))\n",
    "        for i, tree in enumerate(self.trees):\n",
    "            predictions[:, i] = tree.predict(X)\n",
    "        \n",
    "        # Replace NaN values with random 0s and 1s\n",
    "        for i in range(predictions.shape[0]):\n",
    "            for j in range(predictions.shape[1]):\n",
    "                if np.isnan(predictions[i, j]):\n",
    "                    predictions[i, j] = np.random.choice([0, 1])\n",
    "        \n",
    "        # Majority vote\n",
    "        final_predictions = [np.bincount(predictions[i].astype(int)).argmax() for i in range(X.shape[0])]\n",
    "        return final_predictions\n",
    "    \n",
    "            \n",
    "        "
   ]
  },
  {
   "cell_type": "markdown",
   "metadata": {},
   "source": [
    "Categorize the dataset"
   ]
  },
  {
   "cell_type": "code",
   "execution_count": 4,
   "metadata": {},
   "outputs": [],
   "source": [
    "# Age\n",
    "bins_age = [0, 18, 30, 50, np.inf]\n",
    "labels_age = ['0-18', '18-30', '30-50', '50+']\n",
    "train['Age'] = pd.cut(train['Age'], bins=bins_age, labels=labels_age, right=False)\n",
    "# Fare\n",
    "bins_fare = [0, 100, 200, 300, 400, 500, np.inf]\n",
    "labels_fare = ['0-100', '101-200', '201-300', '301-400', '401-500', '500+']\n",
    "train['Fare'] = pd.cut(train['Fare'], bins=bins_fare, labels=labels_fare, right=False)\n"
   ]
  },
  {
   "cell_type": "code",
   "execution_count": 5,
   "metadata": {},
   "outputs": [],
   "source": [
    "test['Age'] = pd.cut(test['Age'], bins=bins_age, labels=labels_age, right=False)\n",
    "test['Fare'] = pd.cut(test['Fare'], bins=bins_fare, labels=labels_fare, right=False)\n",
    "validation['Age'] = pd.cut(validation['Age'], bins=bins_age, labels=labels_age, right=False)\n",
    "validation['Fare'] = pd.cut(validation['Fare'], bins=bins_fare, labels=labels_fare, right=False)"
   ]
  },
  {
   "cell_type": "code",
   "execution_count": 6,
   "metadata": {},
   "outputs": [],
   "source": [
    "X_train = train[['Pclass', 'Sex', 'Age', 'SibSp', 'Parch', 'Fare', 'Cabin', 'Embarked', 'Title']]\n",
    "Y_train = train[['Survived']]\n",
    "Y_train = Y_train.squeeze()\n",
    "Y_train = pd.Series(Y_train.values, index=range(1, len(Y_train) + 1))\n",
    "Y_train[Y_train == '1.0'] = 1\n",
    "Y_train[Y_train == '0.0'] = 0\n",
    "X_test = test[['Pclass', 'Sex', 'Age', 'SibSp', 'Parch', 'Fare', 'Cabin', 'Embarked', 'Title']]\n",
    "Y_test = test[['Survived']]\n",
    "Y_test = Y_test.squeeze()\n",
    "Y_test = pd.Series(Y_test.values, index=range(1, len(Y_test) + 1))\n",
    "X_valid = validation[['Pclass', 'Sex', 'Age', 'SibSp', 'Parch', 'Fare', 'Cabin', 'Embarked', 'Title']]\n",
    "Y_valid = validation[['Survived']]\n",
    "Y_valid = Y_valid.squeeze()\n",
    "Y_valid = pd.Series(Y_valid.values, index=range(1, len(Y_valid) + 1))\n",
    "X_train = X_train.reset_index(drop=True)\n",
    "Y_train = Y_train.reset_index(drop=True)\n",
    "X_test = X_test.reset_index(drop=True)\n",
    "Y_test = Y_test.reset_index(drop=True)\n",
    "X_valid = X_valid.reset_index(drop=True)\n",
    "Y_valid = Y_valid.reset_index(drop=True)"
   ]
  },
  {
   "cell_type": "code",
   "execution_count": null,
   "metadata": {},
   "outputs": [],
   "source": [
    "Y_train"
   ]
  },
  {
   "cell_type": "code",
   "execution_count": null,
   "metadata": {},
   "outputs": [],
   "source": [
    "occur = [set() for _ in range(8)]\n",
    "occur2 = [set() for _ in range(8)]\n",
    "for _, i in X_train.iterrows():\n",
    "    for j in range(8):\n",
    "        if i.iloc[j] in occur[j]:\n",
    "            continue\n",
    "        else:\n",
    "            occur[j].add(i.iloc[j])\n",
    "\n",
    "for _, i in X_test.iterrows():\n",
    "    for j in range(8):\n",
    "        if i.iloc[j] in occur2[j]:\n",
    "            continue\n",
    "        else:\n",
    "            occur2[j].add(i.iloc[j])\n",
    "print(occur)\n",
    "print(occur2)"
   ]
  },
  {
   "cell_type": "code",
   "execution_count": null,
   "metadata": {},
   "outputs": [],
   "source": [
    "condition = X_test.iloc[:, 4] != 9\n",
    "condition2 = X_valid.iloc[:, 4] != 9\n",
    "X_test = X_test[condition].reset_index(drop=True)\n",
    "Y_test = Y_test[condition].reset_index(drop=True)\n",
    "X_valid = X_valid[condition2].reset_index(drop=True)\n",
    "Y_valid = Y_valid[condition2].reset_index(drop=True)"
   ]
  },
  {
   "cell_type": "code",
   "execution_count": null,
   "metadata": {},
   "outputs": [],
   "source": [
    "print(X_test)\n",
    "print(X_train)"
   ]
  },
  {
   "cell_type": "markdown",
   "metadata": {},
   "source": [
    "Modeling"
   ]
  },
  {
   "cell_type": "code",
   "execution_count": null,
   "metadata": {},
   "outputs": [],
   "source": [
    "tree = DecisionTreeID3()\n",
    "tree.fit(X_train, Y_train)\n",
    "Y_pred = tree.predict(X_test)\n",
    "for i in range(len(Y_pred)):\n",
    "    if Y_pred[i] == None:\n",
    "        Y_pred[i] = 0\n",
    "Y_pred_array = np.array(Y_pred, dtype='int64')\n",
    "evaluate(Y_test, Y_pred, 1)\n"
   ]
  },
  {
   "cell_type": "code",
   "execution_count": 41,
   "metadata": {},
   "outputs": [
    {
     "data": {
      "image/png": "[encoded data removed]",
      "text/plain": [
       "<Figure size 640x480 with 2 Axes>"
      ]
     },
     "metadata": {},
     "output_type": "display_data"
    },
    {
     "name": "stdout",
     "output_type": "stream",
     "text": [
      "Precision: 0.5056907053931355\n",
      "Recall: 0.6086956521739131\n",
      "F1 Score: 0.4972834683575643\n"
     ]
    }
   ],
   "source": [
    "forest = RandomForest(n_tree=1)\n",
    "forest.fit(X_train, Y_train)\n",
    "Y_pred = forest.predict(X_test)\n",
    "evaluate(Y_test, Y_pred, 1)"
   ]
  }
 ],
 "metadata": {
  "kernelspec": {
   "display_name": "course",
   "language": "python",
   "name": "python3"
  },
  "language_info": {
   "codemirror_mode": {
    "name": "ipython",
    "version": 3
   },
   "file_extension": ".py",
   "mimetype": "text/x-python",
   "name": "python",
   "nbconvert_exporter": "python",
   "pygments_lexer": "ipython3",
   "version": "3.8.20"
  }
 },
 "nbformat": 4,
 "nbformat_minor": 2
}
