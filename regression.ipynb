{
 "cells": [
  {
   "cell_type": "markdown",
   "metadata": {},
   "source": [
    "LINEAR REGRESSION"
   ]
  },
  {
   "cell_type": "markdown",
   "metadata": {},
   "source": [
    "DATA PREPARATION"
   ]
  },
  {
   "cell_type": "code",
   "execution_count": 2,
   "metadata": {},
   "outputs": [],
   "source": [
    "import numpy as np  \n",
    "import pandas as pd\n",
    "import matplotlib.pyplot as plt\n",
    "from sklearn import linear_model\n",
    "from sklearn.metrics import mean_squared_error, r2_score\n",
    "from sklearn.model_selection import train_test_split\n",
    "import math"
   ]
  },
  {
   "cell_type": "code",
   "execution_count": 3,
   "metadata": {},
   "outputs": [
    {
     "ename": "FileNotFoundError",
     "evalue": "[Errno 2] No such file or directory: 'Dataset/train_preprocessing.csv'",
     "output_type": "error",
     "traceback": [
      "\u001b[1;31m---------------------------------------------------------------------------\u001b[0m",
      "\u001b[1;31mFileNotFoundError\u001b[0m                         Traceback (most recent call last)",
      "Cell \u001b[1;32mIn[3], line 1\u001b[0m\n\u001b[1;32m----> 1\u001b[0m train \u001b[38;5;241m=\u001b[39m \u001b[43mpd\u001b[49m\u001b[38;5;241;43m.\u001b[39;49m\u001b[43mread_csv\u001b[49m\u001b[43m(\u001b[49m\u001b[38;5;124;43m'\u001b[39;49m\u001b[38;5;124;43mDataset/train_preprocessing.csv\u001b[39;49m\u001b[38;5;124;43m'\u001b[39;49m\u001b[43m)\u001b[49m\n\u001b[0;32m      2\u001b[0m test \u001b[38;5;241m=\u001b[39m pd\u001b[38;5;241m.\u001b[39mread_csv(\u001b[38;5;124m'\u001b[39m\u001b[38;5;124mDataset/test_preprocessing.csv\u001b[39m\u001b[38;5;124m'\u001b[39m)\n\u001b[0;32m      3\u001b[0m gender_submission \u001b[38;5;241m=\u001b[39m pd\u001b[38;5;241m.\u001b[39mread_csv(\u001b[38;5;124m'\u001b[39m\u001b[38;5;124mDataset/gender_submission.csv\u001b[39m\u001b[38;5;124m'\u001b[39m)\n",
      "File \u001b[1;32mc:\\Users\\Quynh\\.conda\\envs\\course\\lib\\site-packages\\pandas\\io\\parsers\\readers.py:912\u001b[0m, in \u001b[0;36mread_csv\u001b[1;34m(filepath_or_buffer, sep, delimiter, header, names, index_col, usecols, dtype, engine, converters, true_values, false_values, skipinitialspace, skiprows, skipfooter, nrows, na_values, keep_default_na, na_filter, verbose, skip_blank_lines, parse_dates, infer_datetime_format, keep_date_col, date_parser, date_format, dayfirst, cache_dates, iterator, chunksize, compression, thousands, decimal, lineterminator, quotechar, quoting, doublequote, escapechar, comment, encoding, encoding_errors, dialect, on_bad_lines, delim_whitespace, low_memory, memory_map, float_precision, storage_options, dtype_backend)\u001b[0m\n\u001b[0;32m    899\u001b[0m kwds_defaults \u001b[38;5;241m=\u001b[39m _refine_defaults_read(\n\u001b[0;32m    900\u001b[0m     dialect,\n\u001b[0;32m    901\u001b[0m     delimiter,\n\u001b[1;32m   (...)\u001b[0m\n\u001b[0;32m    908\u001b[0m     dtype_backend\u001b[38;5;241m=\u001b[39mdtype_backend,\n\u001b[0;32m    909\u001b[0m )\n\u001b[0;32m    910\u001b[0m kwds\u001b[38;5;241m.\u001b[39mupdate(kwds_defaults)\n\u001b[1;32m--> 912\u001b[0m \u001b[38;5;28;01mreturn\u001b[39;00m \u001b[43m_read\u001b[49m\u001b[43m(\u001b[49m\u001b[43mfilepath_or_buffer\u001b[49m\u001b[43m,\u001b[49m\u001b[43m \u001b[49m\u001b[43mkwds\u001b[49m\u001b[43m)\u001b[49m\n",
      "File \u001b[1;32mc:\\Users\\Quynh\\.conda\\envs\\course\\lib\\site-packages\\pandas\\io\\parsers\\readers.py:577\u001b[0m, in \u001b[0;36m_read\u001b[1;34m(filepath_or_buffer, kwds)\u001b[0m\n\u001b[0;32m    574\u001b[0m _validate_names(kwds\u001b[38;5;241m.\u001b[39mget(\u001b[38;5;124m\"\u001b[39m\u001b[38;5;124mnames\u001b[39m\u001b[38;5;124m\"\u001b[39m, \u001b[38;5;28;01mNone\u001b[39;00m))\n\u001b[0;32m    576\u001b[0m \u001b[38;5;66;03m# Create the parser.\u001b[39;00m\n\u001b[1;32m--> 577\u001b[0m parser \u001b[38;5;241m=\u001b[39m \u001b[43mTextFileReader\u001b[49m\u001b[43m(\u001b[49m\u001b[43mfilepath_or_buffer\u001b[49m\u001b[43m,\u001b[49m\u001b[43m \u001b[49m\u001b[38;5;241;43m*\u001b[39;49m\u001b[38;5;241;43m*\u001b[39;49m\u001b[43mkwds\u001b[49m\u001b[43m)\u001b[49m\n\u001b[0;32m    579\u001b[0m \u001b[38;5;28;01mif\u001b[39;00m chunksize \u001b[38;5;129;01mor\u001b[39;00m iterator:\n\u001b[0;32m    580\u001b[0m     \u001b[38;5;28;01mreturn\u001b[39;00m parser\n",
      "File \u001b[1;32mc:\\Users\\Quynh\\.conda\\envs\\course\\lib\\site-packages\\pandas\\io\\parsers\\readers.py:1407\u001b[0m, in \u001b[0;36mTextFileReader.__init__\u001b[1;34m(self, f, engine, **kwds)\u001b[0m\n\u001b[0;32m   1404\u001b[0m     \u001b[38;5;28mself\u001b[39m\u001b[38;5;241m.\u001b[39moptions[\u001b[38;5;124m\"\u001b[39m\u001b[38;5;124mhas_index_names\u001b[39m\u001b[38;5;124m\"\u001b[39m] \u001b[38;5;241m=\u001b[39m kwds[\u001b[38;5;124m\"\u001b[39m\u001b[38;5;124mhas_index_names\u001b[39m\u001b[38;5;124m\"\u001b[39m]\n\u001b[0;32m   1406\u001b[0m \u001b[38;5;28mself\u001b[39m\u001b[38;5;241m.\u001b[39mhandles: IOHandles \u001b[38;5;241m|\u001b[39m \u001b[38;5;28;01mNone\u001b[39;00m \u001b[38;5;241m=\u001b[39m \u001b[38;5;28;01mNone\u001b[39;00m\n\u001b[1;32m-> 1407\u001b[0m \u001b[38;5;28mself\u001b[39m\u001b[38;5;241m.\u001b[39m_engine \u001b[38;5;241m=\u001b[39m \u001b[38;5;28;43mself\u001b[39;49m\u001b[38;5;241;43m.\u001b[39;49m\u001b[43m_make_engine\u001b[49m\u001b[43m(\u001b[49m\u001b[43mf\u001b[49m\u001b[43m,\u001b[49m\u001b[43m \u001b[49m\u001b[38;5;28;43mself\u001b[39;49m\u001b[38;5;241;43m.\u001b[39;49m\u001b[43mengine\u001b[49m\u001b[43m)\u001b[49m\n",
      "File \u001b[1;32mc:\\Users\\Quynh\\.conda\\envs\\course\\lib\\site-packages\\pandas\\io\\parsers\\readers.py:1661\u001b[0m, in \u001b[0;36mTextFileReader._make_engine\u001b[1;34m(self, f, engine)\u001b[0m\n\u001b[0;32m   1659\u001b[0m     \u001b[38;5;28;01mif\u001b[39;00m \u001b[38;5;124m\"\u001b[39m\u001b[38;5;124mb\u001b[39m\u001b[38;5;124m\"\u001b[39m \u001b[38;5;129;01mnot\u001b[39;00m \u001b[38;5;129;01min\u001b[39;00m mode:\n\u001b[0;32m   1660\u001b[0m         mode \u001b[38;5;241m+\u001b[39m\u001b[38;5;241m=\u001b[39m \u001b[38;5;124m\"\u001b[39m\u001b[38;5;124mb\u001b[39m\u001b[38;5;124m\"\u001b[39m\n\u001b[1;32m-> 1661\u001b[0m \u001b[38;5;28mself\u001b[39m\u001b[38;5;241m.\u001b[39mhandles \u001b[38;5;241m=\u001b[39m \u001b[43mget_handle\u001b[49m\u001b[43m(\u001b[49m\n\u001b[0;32m   1662\u001b[0m \u001b[43m    \u001b[49m\u001b[43mf\u001b[49m\u001b[43m,\u001b[49m\n\u001b[0;32m   1663\u001b[0m \u001b[43m    \u001b[49m\u001b[43mmode\u001b[49m\u001b[43m,\u001b[49m\n\u001b[0;32m   1664\u001b[0m \u001b[43m    \u001b[49m\u001b[43mencoding\u001b[49m\u001b[38;5;241;43m=\u001b[39;49m\u001b[38;5;28;43mself\u001b[39;49m\u001b[38;5;241;43m.\u001b[39;49m\u001b[43moptions\u001b[49m\u001b[38;5;241;43m.\u001b[39;49m\u001b[43mget\u001b[49m\u001b[43m(\u001b[49m\u001b[38;5;124;43m\"\u001b[39;49m\u001b[38;5;124;43mencoding\u001b[39;49m\u001b[38;5;124;43m\"\u001b[39;49m\u001b[43m,\u001b[49m\u001b[43m \u001b[49m\u001b[38;5;28;43;01mNone\u001b[39;49;00m\u001b[43m)\u001b[49m\u001b[43m,\u001b[49m\n\u001b[0;32m   1665\u001b[0m \u001b[43m    \u001b[49m\u001b[43mcompression\u001b[49m\u001b[38;5;241;43m=\u001b[39;49m\u001b[38;5;28;43mself\u001b[39;49m\u001b[38;5;241;43m.\u001b[39;49m\u001b[43moptions\u001b[49m\u001b[38;5;241;43m.\u001b[39;49m\u001b[43mget\u001b[49m\u001b[43m(\u001b[49m\u001b[38;5;124;43m\"\u001b[39;49m\u001b[38;5;124;43mcompression\u001b[39;49m\u001b[38;5;124;43m\"\u001b[39;49m\u001b[43m,\u001b[49m\u001b[43m \u001b[49m\u001b[38;5;28;43;01mNone\u001b[39;49;00m\u001b[43m)\u001b[49m\u001b[43m,\u001b[49m\n\u001b[0;32m   1666\u001b[0m \u001b[43m    \u001b[49m\u001b[43mmemory_map\u001b[49m\u001b[38;5;241;43m=\u001b[39;49m\u001b[38;5;28;43mself\u001b[39;49m\u001b[38;5;241;43m.\u001b[39;49m\u001b[43moptions\u001b[49m\u001b[38;5;241;43m.\u001b[39;49m\u001b[43mget\u001b[49m\u001b[43m(\u001b[49m\u001b[38;5;124;43m\"\u001b[39;49m\u001b[38;5;124;43mmemory_map\u001b[39;49m\u001b[38;5;124;43m\"\u001b[39;49m\u001b[43m,\u001b[49m\u001b[43m \u001b[49m\u001b[38;5;28;43;01mFalse\u001b[39;49;00m\u001b[43m)\u001b[49m\u001b[43m,\u001b[49m\n\u001b[0;32m   1667\u001b[0m \u001b[43m    \u001b[49m\u001b[43mis_text\u001b[49m\u001b[38;5;241;43m=\u001b[39;49m\u001b[43mis_text\u001b[49m\u001b[43m,\u001b[49m\n\u001b[0;32m   1668\u001b[0m \u001b[43m    \u001b[49m\u001b[43merrors\u001b[49m\u001b[38;5;241;43m=\u001b[39;49m\u001b[38;5;28;43mself\u001b[39;49m\u001b[38;5;241;43m.\u001b[39;49m\u001b[43moptions\u001b[49m\u001b[38;5;241;43m.\u001b[39;49m\u001b[43mget\u001b[49m\u001b[43m(\u001b[49m\u001b[38;5;124;43m\"\u001b[39;49m\u001b[38;5;124;43mencoding_errors\u001b[39;49m\u001b[38;5;124;43m\"\u001b[39;49m\u001b[43m,\u001b[49m\u001b[43m \u001b[49m\u001b[38;5;124;43m\"\u001b[39;49m\u001b[38;5;124;43mstrict\u001b[39;49m\u001b[38;5;124;43m\"\u001b[39;49m\u001b[43m)\u001b[49m\u001b[43m,\u001b[49m\n\u001b[0;32m   1669\u001b[0m \u001b[43m    \u001b[49m\u001b[43mstorage_options\u001b[49m\u001b[38;5;241;43m=\u001b[39;49m\u001b[38;5;28;43mself\u001b[39;49m\u001b[38;5;241;43m.\u001b[39;49m\u001b[43moptions\u001b[49m\u001b[38;5;241;43m.\u001b[39;49m\u001b[43mget\u001b[49m\u001b[43m(\u001b[49m\u001b[38;5;124;43m\"\u001b[39;49m\u001b[38;5;124;43mstorage_options\u001b[39;49m\u001b[38;5;124;43m\"\u001b[39;49m\u001b[43m,\u001b[49m\u001b[43m \u001b[49m\u001b[38;5;28;43;01mNone\u001b[39;49;00m\u001b[43m)\u001b[49m\u001b[43m,\u001b[49m\n\u001b[0;32m   1670\u001b[0m \u001b[43m\u001b[49m\u001b[43m)\u001b[49m\n\u001b[0;32m   1671\u001b[0m \u001b[38;5;28;01massert\u001b[39;00m \u001b[38;5;28mself\u001b[39m\u001b[38;5;241m.\u001b[39mhandles \u001b[38;5;129;01mis\u001b[39;00m \u001b[38;5;129;01mnot\u001b[39;00m \u001b[38;5;28;01mNone\u001b[39;00m\n\u001b[0;32m   1672\u001b[0m f \u001b[38;5;241m=\u001b[39m \u001b[38;5;28mself\u001b[39m\u001b[38;5;241m.\u001b[39mhandles\u001b[38;5;241m.\u001b[39mhandle\n",
      "File \u001b[1;32mc:\\Users\\Quynh\\.conda\\envs\\course\\lib\\site-packages\\pandas\\io\\common.py:859\u001b[0m, in \u001b[0;36mget_handle\u001b[1;34m(path_or_buf, mode, encoding, compression, memory_map, is_text, errors, storage_options)\u001b[0m\n\u001b[0;32m    854\u001b[0m \u001b[38;5;28;01melif\u001b[39;00m \u001b[38;5;28misinstance\u001b[39m(handle, \u001b[38;5;28mstr\u001b[39m):\n\u001b[0;32m    855\u001b[0m     \u001b[38;5;66;03m# Check whether the filename is to be opened in binary mode.\u001b[39;00m\n\u001b[0;32m    856\u001b[0m     \u001b[38;5;66;03m# Binary mode does not support 'encoding' and 'newline'.\u001b[39;00m\n\u001b[0;32m    857\u001b[0m     \u001b[38;5;28;01mif\u001b[39;00m ioargs\u001b[38;5;241m.\u001b[39mencoding \u001b[38;5;129;01mand\u001b[39;00m \u001b[38;5;124m\"\u001b[39m\u001b[38;5;124mb\u001b[39m\u001b[38;5;124m\"\u001b[39m \u001b[38;5;129;01mnot\u001b[39;00m \u001b[38;5;129;01min\u001b[39;00m ioargs\u001b[38;5;241m.\u001b[39mmode:\n\u001b[0;32m    858\u001b[0m         \u001b[38;5;66;03m# Encoding\u001b[39;00m\n\u001b[1;32m--> 859\u001b[0m         handle \u001b[38;5;241m=\u001b[39m \u001b[38;5;28;43mopen\u001b[39;49m\u001b[43m(\u001b[49m\n\u001b[0;32m    860\u001b[0m \u001b[43m            \u001b[49m\u001b[43mhandle\u001b[49m\u001b[43m,\u001b[49m\n\u001b[0;32m    861\u001b[0m \u001b[43m            \u001b[49m\u001b[43mioargs\u001b[49m\u001b[38;5;241;43m.\u001b[39;49m\u001b[43mmode\u001b[49m\u001b[43m,\u001b[49m\n\u001b[0;32m    862\u001b[0m \u001b[43m            \u001b[49m\u001b[43mencoding\u001b[49m\u001b[38;5;241;43m=\u001b[39;49m\u001b[43mioargs\u001b[49m\u001b[38;5;241;43m.\u001b[39;49m\u001b[43mencoding\u001b[49m\u001b[43m,\u001b[49m\n\u001b[0;32m    863\u001b[0m \u001b[43m            \u001b[49m\u001b[43merrors\u001b[49m\u001b[38;5;241;43m=\u001b[39;49m\u001b[43merrors\u001b[49m\u001b[43m,\u001b[49m\n\u001b[0;32m    864\u001b[0m \u001b[43m            \u001b[49m\u001b[43mnewline\u001b[49m\u001b[38;5;241;43m=\u001b[39;49m\u001b[38;5;124;43m\"\u001b[39;49m\u001b[38;5;124;43m\"\u001b[39;49m\u001b[43m,\u001b[49m\n\u001b[0;32m    865\u001b[0m \u001b[43m        \u001b[49m\u001b[43m)\u001b[49m\n\u001b[0;32m    866\u001b[0m     \u001b[38;5;28;01melse\u001b[39;00m:\n\u001b[0;32m    867\u001b[0m         \u001b[38;5;66;03m# Binary mode\u001b[39;00m\n\u001b[0;32m    868\u001b[0m         handle \u001b[38;5;241m=\u001b[39m \u001b[38;5;28mopen\u001b[39m(handle, ioargs\u001b[38;5;241m.\u001b[39mmode)\n",
      "\u001b[1;31mFileNotFoundError\u001b[0m: [Errno 2] No such file or directory: 'Dataset/train_preprocessing.csv'"
     ]
    }
   ],
   "source": [
    "train = pd.read_csv('Dataset/train_preprocessing.csv')\n",
    "test = pd.read_csv('Dataset/test_preprocessing.csv')\n",
    "gender_submission = pd.read_csv('Dataset/gender_submission.csv')\n",
    "# Merge the test dataframe with the gender_submission dataframe on 'PassengerId'\n",
    "test = pd.merge(test, gender_submission[['PassengerId', 'Survived']], on='PassengerId', how='left')\n",
    "test = test.drop(['Survived_x'], axis = 1)\n",
    "test.rename(columns={'Survived_y': 'Survived'}, inplace=True)\n",
    "print(test.head())\n",
    "train = train[train['Survived'] != 'U']\n",
    "test = test[test['Survived'] != 'U']\n",
    "validation, test = train_test_split(test, test_size=2/3, random_state=42)"
   ]
  },
  {
   "cell_type": "code",
   "execution_count": 3,
   "metadata": {},
   "outputs": [],
   "source": [
    "X_train = train[['Survived', 'Pclass', 'Sex', 'Age', 'SibSp', 'Parch', 'Cabin', 'Embarked', 'Title']].values\n",
    "Y_train = train[['Fare']].values\n",
    "X_train[:,0] = X_train[:,0].astype(float)\n",
    "X_validation = validation[['Survived', 'Pclass', 'Sex', 'Age', 'SibSp', 'Parch', 'Cabin', 'Embarked', 'Title']].values\n",
    "Y_validation = validation[['Fare']].values\n",
    "X_validation[:,0] = X_validation[:,0].astype(float)\n",
    "X_test = test[['Survived', 'Pclass', 'Sex', 'Age', 'SibSp', 'Parch', 'Cabin', 'Embarked', 'Title']].values\n",
    "Y_test = test[['Fare']].values\n",
    "X_test[:,0] = X_test[:,0].astype(float)"
   ]
  },
  {
   "cell_type": "code",
   "execution_count": null,
   "metadata": {},
   "outputs": [],
   "source": [
    "X_train"
   ]
  },
  {
   "cell_type": "markdown",
   "metadata": {},
   "source": [
    "1. Ordinary Least Squares"
   ]
  },
  {
   "cell_type": "code",
   "execution_count": null,
   "metadata": {},
   "outputs": [],
   "source": [
    "# Scikit-learn model\n",
    "# Modeling\n",
    "model = linear_model.LinearRegression()\n",
    "model.fit(X_train, Y_train)\n",
    "print(model.intercept_, model.coef_)\n",
    "# Predict and Test\n",
    "Y_pred = model.predict(X_test)\n",
    "\n",
    "res = pd.DataFrame(data=np.concatenate([Y_pred, Y_test, abs(Y_test - Y_pred)], axis=1),\n",
    "                   columns=[\"Prediction\", \"Ground Truth\", \"Error\"])\n",
    "\n",
    "print(res.head(5))\n",
    "\n",
    "rmse = math.sqrt(mean_squared_error(Y_test, Y_pred))\n",
    "print(f'RMSE = {rmse}')\n",
    "r2 = r2_score(Y_test, Y_pred)\n",
    "print(f'R2 Score = {r2}')"
   ]
  },
  {
   "cell_type": "code",
   "execution_count": 140,
   "metadata": {},
   "outputs": [],
   "source": [
    "# Code from scratch\n",
    "class Linear_Model():\n",
    "    def init(self):\n",
    "        self.coef_ = None\n",
    "\n",
    "    def fit(self, X_train, Y_train):\n",
    "        X_train = np.array(X_train,dtype=np.float64)\n",
    "        Y_train = np.array(Y_train,dtype=np.float64)\n",
    "        A = np.concatenate([np.ones(shape=(X_train.shape[0], 1)), X_train], axis = 1)\n",
    "        self.coef_ = (np.matmul(np.matmul(np.linalg.inv(np.matmul(A.T, A)), A.T), Y_train)).T\n",
    "        return\n",
    "    \n",
    "    def predict(self, X_test):\n",
    "        A_test = np.concatenate([np.ones((X_test.shape[0], 1)), X_test], axis=1)\n",
    "        Y_pred = np.matmul(A_test, self.coef_.T)\n",
    "        return Y_pred\n"
   ]
  },
  {
   "cell_type": "code",
   "execution_count": null,
   "metadata": {},
   "outputs": [],
   "source": [
    "OLS_scratch = Linear_Model()\n",
    "OLS_scratch.fit(X_train, Y_train)\n",
    "print(OLS_scratch.coef_)\n",
    "Y_pred_1s = OLS_scratch.predict(X_test)\n",
    "# Predict and Test\n",
    "Y_pred = model.predict(X_test)\n",
    "\n",
    "res = pd.DataFrame(data=np.concatenate([Y_pred_1s, Y_test, abs(Y_test - Y_pred_1s)], axis=1),\n",
    "                   columns=[\"Prediction\", \"Ground Truth\", \"Error\"])\n",
    "\n",
    "print(res.head(5))\n",
    "\n",
    "rmse = math.sqrt(mean_squared_error(Y_test, Y_pred_1s))\n",
    "print(f'RMSE = {rmse}')\n",
    "r2 = r2_score(Y_test, Y_pred_1s)\n",
    "print(f'R2 Score = {r2}')\n"
   ]
  },
  {
   "cell_type": "markdown",
   "metadata": {},
   "source": [
    "2. Ridge Regression"
   ]
  },
  {
   "cell_type": "code",
   "execution_count": null,
   "metadata": {},
   "outputs": [],
   "source": [
    "ridge_model = linear_model.Ridge(alpha=0.1)\n",
    "ridge_model.fit(X_train, Y_train)\n",
    "\n",
    "print(ridge_model.intercept_, ridge_model.coef_)\n",
    "\n",
    "Y_pred_2 = ridge_model.predict(X_test)\n",
    "res = pd.DataFrame(data=np.concatenate([Y_pred_2, Y_test, abs(Y_test - Y_pred_2)], axis=1),\n",
    "                   columns=[\"Prediction\", \"Ground Truth\", \"Error\"])\n",
    "print(res.head(5))\n",
    "\n",
    "rmse = math.sqrt(mean_squared_error(Y_test, Y_pred_2))\n",
    "print(f'RMSE = {rmse}')\n",
    "r2 = r2_score(Y_test, Y_pred_2)\n",
    "print(f'R2 Score = {r2}')"
   ]
  },
  {
   "cell_type": "code",
   "execution_count": 152,
   "metadata": {},
   "outputs": [],
   "source": [
    "# Code from scratch\n",
    "class Ridge_Model(Linear_Model):\n",
    "    def __init__(self, alpha=0):\n",
    "        Linear_Model.__init__(self)\n",
    "        self.alpha = alpha\n",
    "\n",
    "    def fit(self, X_train, Y_train):\n",
    "        X_train = np.array(X_train,dtype=np.float64)\n",
    "        Y_train = np.array(Y_train,dtype=np.float64)\n",
    "        A = np.concatenate([np.ones(shape=(X_train.shape[0], 1)), X_train], axis = 1)\n",
    "        self.coef_ = (np.matmul(np.matmul(np.linalg.inv(np.matmul(A.T, A) + self.alpha*np.identity(A.shape[1])), A.T), Y_train)).T"
   ]
  },
  {
   "cell_type": "code",
   "execution_count": null,
   "metadata": {},
   "outputs": [],
   "source": [
    "ridge_2 = Ridge_Model(alpha=0.1)\n",
    "ridge_2.fit(X_train, Y_train)\n",
    "\n",
    "print(ridge_2.coef_)\n",
    "\n",
    "Y_pred_2s = ridge_2.predict(X_test)\n",
    "res = pd.DataFrame(data=np.concatenate([Y_pred_2s, Y_test, abs(Y_test - Y_pred_2s)], axis=1),\n",
    "                   columns=[\"Prediction\", \"Ground Truth\", \"Error\"])\n",
    "print(res.head(5))\n",
    "\n",
    "rmse = math.sqrt(mean_squared_error(Y_test, Y_pred_2s))\n",
    "print(f'RMSE = {rmse}')\n",
    "r2 = r2_score(Y_test, Y_pred_2s)\n",
    "print(f'R2 Score = {r2}')"
   ]
  },
  {
   "cell_type": "code",
   "execution_count": null,
   "metadata": {},
   "outputs": [],
   "source": [
    "# Tuning\n",
    "a = 0.05\n",
    "alphas = []\n",
    "rmse = []\n",
    "best_rmse = float('inf')\n",
    "best_alpha = a\n",
    "\n",
    "while a < 1:\n",
    "    rr = linear_model.Ridge(alpha=a)\n",
    "    rr.fit(X_train, Y_train)\n",
    "    pred = rr.predict(X_validation)\n",
    "    error_rmse = math.sqrt(mean_squared_error(Y_validation, pred))\n",
    "    alphas.append(a)\n",
    "    rmse.append(error_rmse)\n",
    "    \n",
    "    if error_rmse < best_rmse:\n",
    "        best_rmse = error_rmse\n",
    "        best_alpha = a\n",
    "    \n",
    "    a += 0.05\n",
    "\n",
    "# Plotting the results\n",
    "plt.figure(figsize=(10, 6))\n",
    "plt.plot(alphas, rmse, marker='o', linestyle='-', color='b')\n",
    "plt.xlabel('alpha')\n",
    "plt.ylabel('RMSE')\n",
    "plt.title('RMSE vs alpha on Train and Validate set')\n",
    "plt.grid(True)\n",
    "plt.show()\n",
    "\n",
    "\n",
    "# Test with best hyperparameter\n",
    "rr = linear_model.Lasso(alpha = best_alpha)\n",
    "rr.fit(X_train, Y_train)\n",
    "Y_pred_3t = rr.predict(X_test)\n",
    "rmse = math.sqrt(mean_squared_error(Y_test, Y_pred_3t))\n",
    "print('Error on Test set')\n",
    "print(f'RMSE = {rmse}')\n",
    "r2 = r2_score(Y_test, Y_pred_3t)\n",
    "print(f'R2 Score = {r2}')\n"
   ]
  },
  {
   "cell_type": "markdown",
   "metadata": {},
   "source": [
    "3. LASSO "
   ]
  },
  {
   "cell_type": "code",
   "execution_count": null,
   "metadata": {},
   "outputs": [],
   "source": [
    "lasso_model = linear_model.Lasso(alpha=0.1)\n",
    "lasso_model.fit(X_train, Y_train)\n",
    "print(lasso_model.intercept_, lasso_model.coef_)\n",
    "\n",
    "Y_pred_3 = lasso_model.predict(X_test).reshape(-1, 1)\n",
    "res = pd.DataFrame(data=np.concatenate([Y_pred_3, Y_test, abs(Y_test - Y_pred_3)], axis=1),\n",
    "                   columns=[\"Prediction\", \"Ground Truth\", \"Error\"])\n",
    "\n",
    "print(res.head(5))\n",
    "\n",
    "rmse = math.sqrt(mean_squared_error(Y_test, Y_pred_3))\n",
    "print(f'RMSE = {rmse}')\n",
    "r2 = r2_score(Y_test, Y_pred_3)\n",
    "print(f'R2 Score = {r2}')"
   ]
  },
  {
   "cell_type": "code",
   "execution_count": null,
   "metadata": {},
   "outputs": [],
   "source": [
    "# Tuning\n",
    "a = 0.05\n",
    "alphas = []\n",
    "rmse = []\n",
    "best_rmse = float('inf')\n",
    "best_alpha = a\n",
    "\n",
    "while a < 1:\n",
    "    rr = linear_model.Lasso(alpha=a)\n",
    "    rr.fit(X_train, Y_train)\n",
    "    pred = rr.predict(X_validation)\n",
    "    error_rmse = math.sqrt(mean_squared_error(Y_validation, pred))\n",
    "    alphas.append(a)\n",
    "    rmse.append(error_rmse)\n",
    "    \n",
    "    if error_rmse < best_rmse:\n",
    "        best_rmse = error_rmse\n",
    "        best_alpha = a\n",
    "    \n",
    "    a += 0.05\n",
    "\n",
    "# Plotting the results\n",
    "plt.figure(figsize=(10, 6))\n",
    "plt.plot(alphas, rmse, marker='o', linestyle='-', color='b')\n",
    "plt.xlabel('alpha')\n",
    "plt.ylabel('RMSE')\n",
    "plt.title('RMSE vs alpha on Train and Validate set')\n",
    "plt.grid(True)\n",
    "plt.show()\n",
    "\n",
    "\n",
    "# Test with best hyperparameter\n",
    "rr = linear_model.Lasso(alpha = best_alpha)\n",
    "rr.fit(X_train, Y_train)\n",
    "Y_pred_3t = rr.predict(X_test)\n",
    "rmse = math.sqrt(mean_squared_error(Y_test, Y_pred_3t))\n",
    "print('Error on Test set')\n",
    "print(f'RMSE = {rmse}')\n",
    "r2 = r2_score(Y_test, Y_pred_3t)\n",
    "print(f'R2 Score = {r2}')\n"
   ]
  }
 ],
 "metadata": {
  "kernelspec": {
   "display_name": "course",
   "language": "python",
   "name": "python3"
  },
  "language_info": {
   "codemirror_mode": {
    "name": "ipython",
    "version": 3
   },
   "file_extension": ".py",
   "mimetype": "text/x-python",
   "name": "python",
   "nbconvert_exporter": "python",
   "pygments_lexer": "ipython3",
   "version": "3.8.20"
  }
 },
 "nbformat": 4,
 "nbformat_minor": 2
}
