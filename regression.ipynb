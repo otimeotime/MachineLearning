{
 "cells": [
  {
   "cell_type": "markdown",
   "metadata": {},
   "source": [
    "LINEAR REGRESSION"
   ]
  },
  {
   "cell_type": "markdown",
   "metadata": {},
   "source": [
    "DATA PREPARATION"
   ]
  },
  {
   "cell_type": "code",
   "execution_count": 10,
   "metadata": {},
   "outputs": [
    {
     "name": "stdout",
     "output_type": "stream",
     "text": [
      "   Unnamed: 0  index  PassengerId  Pclass  \\\n",
      "0         893      2          894       2   \n",
      "1         894      3          895       3   \n",
      "2         895      4          896       3   \n",
      "3         896      5          897       3   \n",
      "4         897      6          898       3   \n",
      "\n",
      "                                           Name  Sex   Age  SibSp  Parch  \\\n",
      "0                     Myles, Mr. Thomas Francis    1  62.0      0      0   \n",
      "1                              Wirz, Mr. Albert    1  27.0      0      0   \n",
      "2  Hirvonen, Mrs. Alexander (Helga E Lindqvist)    0  22.0      1      1   \n",
      "3                    Svensson, Mr. Johan Cervin    1  14.0      0      0   \n",
      "4                          Connolly, Miss. Kate    0  30.0      0      0   \n",
      "\n",
      "    Ticket     Fare  Cabin  Embarked  Title  Survived  \n",
      "0   240276   9.6875      8         1      2         0  \n",
      "1   315154   8.6625      8         2      2         0  \n",
      "2  3101298  12.2875      8         2      3         1  \n",
      "3     7538   9.2250      8         2      2         0  \n",
      "4   330972   7.6292      8         1      1         1  \n"
     ]
    }
   ],
   "source": [
    "import numpy as np  \n",
    "import pandas as pd\n",
    "train = pd.read_csv('Dataset/train_preprocessing.csv')\n",
    "test = pd.read_csv('Dataset/test_preprocessing.csv')\n",
    "gender_submission = pd.read_csv('Dataset/gender_submission.csv')\n",
    "# Merge the test dataframe with the gender_submission dataframe on 'PassengerId'\n",
    "test = pd.merge(test, gender_submission[['PassengerId', 'Survived']], on='PassengerId', how='left')\n",
    "test = test.drop(['Survived_x'], axis = 1)\n",
    "test.rename(columns={'Survived_y': 'Survived'}, inplace=True)\n",
    "print(test.head())\n",
    "train = train[train['Survived'] != 'U']\n",
    "test = test[test['Survived'] != 'U']\n"
   ]
  },
  {
   "cell_type": "code",
   "execution_count": null,
   "metadata": {},
   "outputs": [],
   "source": [
    "gender_submission"
   ]
  },
  {
   "cell_type": "code",
   "execution_count": 11,
   "metadata": {},
   "outputs": [],
   "source": [
    "X_train = train[['Survived', 'Pclass', 'Sex', 'Age', 'SibSp', 'Parch', 'Fare', 'Cabin', 'Embarked', 'Title']].values\n",
    "Y_train = train[['Fare']].values\n",
    "X_test = test[['Survived', 'Pclass', 'Sex', 'Age', 'SibSp', 'Parch', 'Fare', 'Cabin', 'Embarked', 'Title']].values\n",
    "Y_test = test[['Fare']].values"
   ]
  },
  {
   "cell_type": "code",
   "execution_count": 16,
   "metadata": {},
   "outputs": [
    {
     "data": {
      "text/plain": [
       "(0, 10)"
      ]
     },
     "execution_count": 16,
     "metadata": {},
     "output_type": "execute_result"
    }
   ],
   "source": [
    "X_test.shape"
   ]
  },
  {
   "cell_type": "markdown",
   "metadata": {},
   "source": [
    "1. Ordinary Least Squares"
   ]
  },
  {
   "cell_type": "code",
   "execution_count": 12,
   "metadata": {},
   "outputs": [
    {
     "data": {
      "text/plain": [
       "array([[ 1.13506565e-14,  1.58001323e-14, -1.58322110e-16,\n",
       "        -1.00101291e-15, -7.90516648e-15,  9.83957493e-15,\n",
       "         1.00000000e+00, -3.40313929e-15, -8.88023486e-15,\n",
       "         2.48280912e-15]])"
      ]
     },
     "execution_count": 12,
     "metadata": {},
     "output_type": "execute_result"
    }
   ],
   "source": [
    "# Modeling\n",
    "from sklearn import linear_model\n",
    "model = linear_model.LinearRegression()\n",
    "model.fit(X_train, Y_train)\n",
    "model.coef_"
   ]
  },
  {
   "cell_type": "code",
   "execution_count": 18,
   "metadata": {},
   "outputs": [
    {
     "data": {
      "text/html": [
       "<div>\n",
       "<style scoped>\n",
       "    .dataframe tbody tr th:only-of-type {\n",
       "        vertical-align: middle;\n",
       "    }\n",
       "\n",
       "    .dataframe tbody tr th {\n",
       "        vertical-align: top;\n",
       "    }\n",
       "\n",
       "    .dataframe thead th {\n",
       "        text-align: right;\n",
       "    }\n",
       "</style>\n",
       "<table border=\"1\" class=\"dataframe\">\n",
       "  <thead>\n",
       "    <tr style=\"text-align: right;\">\n",
       "      <th></th>\n",
       "      <th>Prediction</th>\n",
       "      <th>Ground Truth</th>\n",
       "      <th>Error</th>\n",
       "    </tr>\n",
       "  </thead>\n",
       "  <tbody>\n",
       "    <tr>\n",
       "      <th>0</th>\n",
       "      <td>9.6875</td>\n",
       "      <td>9.6875</td>\n",
       "      <td>2.309264e-14</td>\n",
       "    </tr>\n",
       "    <tr>\n",
       "      <th>1</th>\n",
       "      <td>8.6625</td>\n",
       "      <td>8.6625</td>\n",
       "      <td>1.953993e-14</td>\n",
       "    </tr>\n",
       "    <tr>\n",
       "      <th>2</th>\n",
       "      <td>12.2875</td>\n",
       "      <td>12.2875</td>\n",
       "      <td>3.730349e-14</td>\n",
       "    </tr>\n",
       "    <tr>\n",
       "      <th>3</th>\n",
       "      <td>9.2250</td>\n",
       "      <td>9.2250</td>\n",
       "      <td>3.197442e-14</td>\n",
       "    </tr>\n",
       "    <tr>\n",
       "      <th>4</th>\n",
       "      <td>7.6292</td>\n",
       "      <td>7.6292</td>\n",
       "      <td>3.375078e-14</td>\n",
       "    </tr>\n",
       "  </tbody>\n",
       "</table>\n",
       "</div>"
      ],
      "text/plain": [
       "   Prediction  Ground Truth         Error\n",
       "0      9.6875        9.6875  2.309264e-14\n",
       "1      8.6625        8.6625  1.953993e-14\n",
       "2     12.2875       12.2875  3.730349e-14\n",
       "3      9.2250        9.2250  3.197442e-14\n",
       "4      7.6292        7.6292  3.375078e-14"
      ]
     },
     "execution_count": 18,
     "metadata": {},
     "output_type": "execute_result"
    }
   ],
   "source": [
    "# Predict and Test\n",
    "Y_pred = model.predict(X_test)\n",
    "\n",
    "res = pd.DataFrame(data=np.concatenate([Y_pred, Y_test, abs(Y_test - Y_pred)], axis=1),\n",
    "                   columns=[\"Prediction\", \"Ground Truth\", \"Error\"])\n",
    "\n",
    "res.head(5)"
   ]
  },
  {
   "cell_type": "code",
   "execution_count": 20,
   "metadata": {},
   "outputs": [
    {
     "name": "stdout",
     "output_type": "stream",
     "text": [
      "RMSE = 4.2935784181626495e-14\n",
      "R2 Score = 1.0\n"
     ]
    }
   ],
   "source": [
    "import math\n",
    "from sklearn.metrics import mean_squared_error, r2_score\n",
    "rmse = math.sqrt(mean_squared_error(Y_test, Y_pred))\n",
    "print(f'RMSE = {rmse}')\n",
    "r2 = r2_score(Y_test, Y_pred)\n",
    "print(f'R2 Score = {r2}')"
   ]
  }
 ],
 "metadata": {
  "kernelspec": {
   "display_name": "course",
   "language": "python",
   "name": "python3"
  },
  "language_info": {
   "codemirror_mode": {
    "name": "ipython",
    "version": 3
   },
   "file_extension": ".py",
   "mimetype": "text/x-python",
   "name": "python",
   "nbconvert_exporter": "python",
   "pygments_lexer": "ipython3",
   "version": "3.8.20"
  }
 },
 "nbformat": 4,
 "nbformat_minor": 2
}
