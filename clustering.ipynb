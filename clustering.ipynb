{
 "cells": [
  {
   "cell_type": "markdown",
   "metadata": {},
   "source": [
    "CLUSTERING\n",
    "Cluster passengers into groups of ticket class (1, 2, 3)"
   ]
  },
  {
   "cell_type": "markdown",
   "metadata": {},
   "source": [
    "DATA PREPARATION"
   ]
  },
  {
   "cell_type": "code",
   "execution_count": 53,
   "metadata": {},
   "outputs": [],
   "source": [
    "import numpy as np  \n",
    "from numpy import random\n",
    "import pandas as pd\n",
    "import matplotlib.pyplot as plt\n",
    "from sklearn import cluster\n",
    "from sklearn.metrics import mean_squared_error, r2_score, silhouette_score\n",
    "from sklearn.model_selection import train_test_split\n",
    "import math"
   ]
  },
  {
   "cell_type": "code",
   "execution_count": 35,
   "metadata": {},
   "outputs": [],
   "source": [
    "import os\n",
    "os.environ[\"OMP_NUM_THREADS\"] = '4'\n",
    "import warnings\n",
    "warnings.filterwarnings('ignore')"
   ]
  },
  {
   "cell_type": "code",
   "execution_count": null,
   "metadata": {},
   "outputs": [
    {
     "name": "stdout",
     "output_type": "stream",
     "text": [
      "   Unnamed: 0  index  PassengerId  Pclass  \\\n",
      "0         893      2          894       2   \n",
      "1         894      3          895       3   \n",
      "2         895      4          896       3   \n",
      "3         896      5          897       3   \n",
      "4         897      6          898       3   \n",
      "\n",
      "                                           Name  Sex   Age  SibSp  Parch  \\\n",
      "0                     Myles, Mr. Thomas Francis    1  62.0      0      0   \n",
      "1                              Wirz, Mr. Albert    1  27.0      0      0   \n",
      "2  Hirvonen, Mrs. Alexander (Helga E Lindqvist)    0  22.0      1      1   \n",
      "3                    Svensson, Mr. Johan Cervin    1  14.0      0      0   \n",
      "4                          Connolly, Miss. Kate    0  30.0      0      0   \n",
      "\n",
      "    Ticket     Fare  Cabin  Embarked  Title  Survived  \n",
      "0   240276   9.6875      8         1      2         0  \n",
      "1   315154   8.6625      8         2      2         0  \n",
      "2  3101298  12.2875      8         2      3         1  \n",
      "3     7538   9.2250      8         2      2         0  \n",
      "4   330972   7.6292      8         1      1         1  \n"
     ]
    }
   ],
   "source": [
    "train = pd.read_csv('Dataset/train_preprocessing.csv')\n",
    "test = pd.read_csv('Dataset/test_preprocessing.csv')\n",
    "gender_submission = pd.read_csv('Dataset/gender_submission.csv')\n",
    "# Merge the test dataframe with the gender_submission dataframe on 'PassengerId'\n",
    "test = pd.merge(test, gender_submission[['PassengerId', 'Survived']], on='PassengerId', how='left')\n",
    "test = test.drop(['Survived_x'], axis = 1)\n",
    "test.rename(columns={'Survived_y': 'Survived'}, inplace=True)\n",
    "print(test.head())\n",
    "train = train[train['Survived'] != 'U']\n",
    "test = test[test['Survived'] != 'U']\n",
    "train['Survived'] = train['Survived'].astype(float)\n",
    "test['Survived'] = test['Survived'].astype(float)\n",
    "validation, test = train_test_split(test, test_size=2/3, random_state=42)"
   ]
  },
  {
   "cell_type": "code",
   "execution_count": null,
   "metadata": {},
   "outputs": [
    {
     "data": {
      "text/plain": [
       "array([[ 0.,  1., 22., ...,  8.,  2.,  2.],\n",
       "       [ 1.,  0., 38., ...,  2.,  0.,  3.],\n",
       "       [ 1.,  0., 26., ...,  8.,  2.,  1.],\n",
       "       ...,\n",
       "       [ 0.,  0., 18., ...,  8.,  2.,  1.],\n",
       "       [ 1.,  1., 26., ...,  2.,  0.,  2.],\n",
       "       [ 0.,  1., 32., ...,  8.,  1.,  2.]])"
      ]
     },
     "execution_count": 73,
     "metadata": {},
     "output_type": "execute_result"
    }
   ],
   "source": [
    "X_train = train[['Survived', 'Sex', 'Age', 'SibSp', 'Parch', 'Fare', 'Cabin', 'Embarked', 'Title']].values\n",
    "X_train"
   ]
  },
  {
   "cell_type": "markdown",
   "metadata": {},
   "source": [
    "K-Means - Scikit Learn"
   ]
  },
  {
   "cell_type": "code",
   "execution_count": null,
   "metadata": {},
   "outputs": [],
   "source": [
    "k = 3\n",
    "model = cluster.KMeans(n_clusters=k, init='random')\n",
    "model.fit(X_train)"
   ]
  },
  {
   "cell_type": "code",
   "execution_count": null,
   "metadata": {},
   "outputs": [],
   "source": [
    "# Calculate and print the cardinality of each cluster\n",
    "labels, counts = np.unique(model.labels_, return_counts=True)\n",
    "\n",
    "# Visualize the cardinality of each cluster\n",
    "plt.bar(labels, counts)\n",
    "plt.xlabel('Cluster')\n",
    "plt.ylabel('Number of Samples')\n",
    "plt.title('Cardinality of Each Cluster')\n",
    "plt.show()\n",
    "\n",
    "# Calculate and print the sum-of-square error (SSE)\n",
    "sse = model.inertia_\n",
    "print(f'Sum-of-Square Error (SSE): {sse}')\n",
    "\n",
    "# Calculate and print the silhouette score\n",
    "silhouette_avg = silhouette_score(X_train, model.labels_)\n",
    "print(f'Silhouette Score: {silhouette_avg}')"
   ]
  },
  {
   "cell_type": "code",
   "execution_count": null,
   "metadata": {},
   "outputs": [],
   "source": [
    "# Tuning to find the best number of clusters\n",
    "sse = []\n",
    "sil = []\n",
    "min_sse = 1e9\n",
    "min_sil = 1e9\n",
    "k_values = range(2, 31)\n",
    "for k in k_values:\n",
    "    model = cluster.KMeans(n_clusters=k, init='random', n_init='auto')\n",
    "    model.fit(X_train)\n",
    "    sse.append(model.inertia_)\n",
    "    min_sse = min(min_sse, sse[-1])\n",
    "    sil.append(silhouette_score(X_train, model.labels_))\n",
    "    min_sil = min(min_sil, sil[-1])\n",
    "    \n",
    "\n",
    "# Plot SSE against k\n",
    "plt.figure(figsize=(12, 5))\n",
    "plt.subplot(1, 2, 1)\n",
    "plt.plot(k_values, sse, marker='o')\n",
    "plt.xlabel('Number of Clusters (k)')\n",
    "plt.ylabel('Sum-of-Square Error (SSE)')\n",
    "plt.title('SSE')\n",
    "\n",
    "# Plot silhouette score against k\n",
    "plt.subplot(1, 2, 2)\n",
    "plt.plot(k_values, sil, marker='o')\n",
    "plt.xlabel('Number of Clusters (k)')\n",
    "plt.ylabel('Silhouette Score')\n",
    "plt.title('Silhouette Score')\n",
    "\n",
    "plt.tight_layout()\n",
    "plt.show()\n",
    "print(f\"\\t\\tMin SSE: {min_sse} \\t\\t\\t    Min Silhouette: {min_sil}\")"
   ]
  },
  {
   "cell_type": "markdown",
   "metadata": {},
   "source": [
    "KMeans - Scratch"
   ]
  },
  {
   "cell_type": "code",
   "execution_count": 99,
   "metadata": {},
   "outputs": [],
   "source": [
    "class KMeans_Model():\n",
    "    def __init__(self, k=3, d=2, max_iter=1000, e=1e-4):\n",
    "        self.k = k\n",
    "        self.d = d\n",
    "        self.c = []\n",
    "        self.label = []\n",
    "        self.number_label = []\n",
    "        self.max_iter = max_iter\n",
    "        self.e = e\n",
    "        self.inertia_ = None\n",
    "\n",
    "    def fit(self, X):\n",
    "        self.c = [0] * self.k\n",
    "        self.label = [-1] * len(X)\n",
    "        self.number_label = [0] * self.k\n",
    "        # Initialization\n",
    "        car, dim = X.shape\n",
    "        for i in range(self.k):\n",
    "            self.c[i] = self.random_center(dim)\n",
    "        \n",
    "        for m in range(self.max_iter):\n",
    "            # Assign x to the cluster\n",
    "            self.number_label = [0] * self.k\n",
    "            for i in range(car):\n",
    "                min_dist = 1e10\n",
    "                min_c = -1\n",
    "                for j in range(self.k):\n",
    "                    dist = self.dist(self.c[j], X[i])\n",
    "                    if min_dist > dist:\n",
    "                        min_dist = dist\n",
    "                        min_c = j\n",
    "                self.label[i] = min_c\n",
    "                self.number_label[min_c] += 1\n",
    "                    \n",
    "            # Recompute centroid:\n",
    "            sum = [np.zeros(dim) for _ in range(self.k)]\n",
    "            new_c = [np.zeros(dim) for _ in range(self.k)]\n",
    "            for i in range(car):\n",
    "                sum[self.label[i]] += X[i]\n",
    "            for i in range(self.k):\n",
    "                if self.number_label[i] > 0:\n",
    "                    new_c[i] = sum[i] / self.number_label[i]\n",
    "            # Stop criteria\n",
    "            if self.has_converged(self.c, new_c, self.e):\n",
    "                # Compute inertia\n",
    "                sse = 0\n",
    "                for l in range(car):\n",
    "                    for g in range(k):\n",
    "                        sse += self.dist(self.c[g], X[l])\n",
    "                self.inertia_ = sse\n",
    "                return\n",
    "            else:\n",
    "                self.c = new_c\n",
    "\n",
    "\n",
    "    def has_converged(self, centroids, new_centroids, threshold=1e-4):\n",
    "        for c, nc in zip(centroids, new_centroids):\n",
    "            if np.linalg.norm(c - nc) > threshold:\n",
    "                return False\n",
    "        return True\n",
    "\n",
    "    def dist(self, x, y):\n",
    "        if self.d == 1:\n",
    "            return np.linalg.norm(x - y, ord=1)\n",
    "        elif self.d == 2:\n",
    "            return np.linalg.norm(x - y, ord=2)\n",
    "        else:\n",
    "            return np.linalg.norm(x - y, ord=np.inf)\n",
    "        \n",
    "    def random_center(self, size):\n",
    "        return np.random.uniform(size=size)"
   ]
  },
  {
   "cell_type": "code",
   "execution_count": 103,
   "metadata": {},
   "outputs": [
    {
     "name": "stdout",
     "output_type": "stream",
     "text": [
      "[array([0.51483003, 0.89509763, 0.36460229, 0.72586584, 0.81292147,\n",
      "       0.5465937 , 0.99441687, 0.40947778, 0.15280912]), array([0.72016054, 0.69683702, 0.5173287 , 0.54412377, 0.88548634,\n",
      "       0.95232537, 0.86308263, 0.59711822, 0.36878434]), array([0.86681617, 0.21281614, 0.772139  , 0.20203204, 0.206756  ,\n",
      "       0.24055571, 0.13405973, 0.62464848, 0.31031668])]\n",
      "[729, 20, 140]\n",
      "305911.18737466907\n"
     ]
    }
   ],
   "source": [
    "model = KMeans_Model()\n",
    "model.fit(X_train)\n",
    "print(model.number_label)\n",
    "print(model.inertia_)"
   ]
  }
 ],
 "metadata": {
  "kernelspec": {
   "display_name": "course",
   "language": "python",
   "name": "python3"
  },
  "language_info": {
   "codemirror_mode": {
    "name": "ipython",
    "version": 3
   },
   "file_extension": ".py",
   "mimetype": "text/x-python",
   "name": "python",
   "nbconvert_exporter": "python",
   "pygments_lexer": "ipython3",
   "version": "3.8.20"
  }
 },
 "nbformat": 4,
 "nbformat_minor": 2
}
