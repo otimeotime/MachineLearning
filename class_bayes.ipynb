{
 "cells": [
  {
   "cell_type": "markdown",
   "metadata": {},
   "source": [
    "# Naive Bayes"
   ]
  },
  {
   "cell_type": "code",
   "execution_count": 14,
   "metadata": {},
   "outputs": [],
   "source": [
    "import numpy as np\n",
    "import pandas as pd\n",
    "import warnings\n",
    "from sklearn.naive_bayes import GaussianNB\n",
    "from sklearn.model_selection import KFold\n",
    "import evaluate"
   ]
  },
  {
   "cell_type": "code",
   "execution_count": 17,
   "metadata": {},
   "outputs": [
    {
     "name": "stdout",
     "output_type": "stream",
     "text": [
      "   Unnamed: 0  index  PassengerId  Pclass  \\\n",
      "0         893      2          894       2   \n",
      "1         894      3          895       3   \n",
      "2         895      4          896       3   \n",
      "3         896      5          897       3   \n",
      "4         897      6          898       3   \n",
      "\n",
      "                                           Name  Sex   Age  SibSp  Parch  \\\n",
      "0                     Myles, Mr. Thomas Francis    1  62.0      0      0   \n",
      "1                              Wirz, Mr. Albert    1  27.0      0      0   \n",
      "2  Hirvonen, Mrs. Alexander (Helga E Lindqvist)    0  22.0      1      1   \n",
      "3                    Svensson, Mr. Johan Cervin    1  14.0      0      0   \n",
      "4                          Connolly, Miss. Kate    0  30.0      0      0   \n",
      "\n",
      "    Ticket     Fare  Cabin  Embarked  Title  Survived  \n",
      "0   240276   9.6875      8         1      2         0  \n",
      "1   315154   8.6625      8         2      2         0  \n",
      "2  3101298  12.2875      8         2      3         1  \n",
      "3     7538   9.2250      8         2      2         0  \n",
      "4   330972   7.6292      8         1      1         1  \n"
     ]
    }
   ],
   "source": [
    "warnings.filterwarnings('ignore')\n",
    "\n",
    "train = pd.read_csv('Dataset/train_preprocessing.csv')\n",
    "test = pd.read_csv('Dataset/test_preprocessing.csv')\n",
    "gender_submission = pd.read_csv('Dataset/gender_submission.csv')\n",
    "# Merge the test dataframe with the gender_submission dataframe on 'PassengerId'\n",
    "test = pd.merge(test, gender_submission[['PassengerId', 'Survived']], on='PassengerId', how='left')\n",
    "test = test.drop(['Survived_x'], axis = 1)\n",
    "test.rename(columns={'Survived_y': 'Survived'}, inplace=True)\n",
    "print(test.head())\n",
    "train = train[train['Survived'] != 'U']\n",
    "test = test[test['Survived'] != 'U']\n",
    "data = pd.concat([train, test])"
   ]
  },
  {
   "cell_type": "code",
   "execution_count": 12,
   "metadata": {},
   "outputs": [
    {
     "data": {
      "text/plain": [
       "numpy.ndarray"
      ]
     },
     "execution_count": 12,
     "metadata": {},
     "output_type": "execute_result"
    }
   ],
   "source": [
    "X_train = train[['Pclass', 'Sex', 'Age', 'SibSp', 'Parch', 'Fare', 'Cabin', 'Embarked', 'Title']].values\n",
    "Y_train = train[['Survived']].values\n",
    "X_test = test[['Pclass', 'Sex', 'Age', 'SibSp', 'Parch', 'Fare', 'Cabin', 'Embarked', 'Title']].values\n",
    "Y_test = test[['Survived']].values"
   ]
  },
  {
   "cell_type": "code",
   "execution_count": 11,
   "metadata": {},
   "outputs": [
    {
     "data": {
      "image/png": "[encoded data removed]",
      "text/plain": [
       "<Figure size 640x480 with 2 Axes>"
      ]
     },
     "metadata": {},
     "output_type": "display_data"
    },
    {
     "name": "stdout",
     "output_type": "stream",
     "text": [
      "Accuracy: 0.8530120481927711\n",
      "Precision: 0.8699888156655359\n",
      "Recall: 0.8530120481927711\n",
      "F1 Score: 0.8554273286378975\n"
     ]
    }
   ],
   "source": [
    "# Model\n",
    "model = GaussianNB()\n",
    "model.fit(X_train, Y_train)\n",
    "Y_pred = model.predict(X_test)\n",
    "evaluate.evaluate(Y_test, Y_pred.astype(float),1)"
   ]
  }
 ],
 "metadata": {
  "kernelspec": {
   "display_name": "course",
   "language": "python",
   "name": "python3"
  },
  "language_info": {
   "codemirror_mode": {
    "name": "ipython",
    "version": 3
   },
   "file_extension": ".py",
   "mimetype": "text/x-python",
   "name": "python",
   "nbconvert_exporter": "python",
   "pygments_lexer": "ipython3",
   "version": "3.8.20"
  }
 },
 "nbformat": 4,
 "nbformat_minor": 2
}
